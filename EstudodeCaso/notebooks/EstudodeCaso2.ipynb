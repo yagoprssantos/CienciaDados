{
    "cells": [
        {
            "cell_type": "markdown",
            "metadata": {
                "id": "intro"
            },
            "source": [
                "# Previsão de Cancelamentos de Reservas de Hotel",
                "",
                "Este notebook aborda o problema de previsão de cancelamentos de reservas de hotel utilizando o conjunto de dados `databaseHotel.csv`. O objetivo é desenvolver um modelo preditivo para identificar se uma reserva será cancelada ou não.",
                "",
                "### Integrantes:",
                "- *Nome do Integrante 1*",
                "- *Nome do Integrante 2*",
                "- *Nome do Integrante 3*",
                "- *Nome do Integrante 4*",
                "",
                "## Etapas do Notebook:",
                "1. **Importação de Bibliotecas e Carregamento dos Dados**",
                "2. **Análise Exploratória de Dados (EDA)**",
                "3. **Preparação dos Dados**",
                "4. **Treinamento de Modelos (KNN, Árvore de Decisão, Regressão Logística)**",
                "5. **Avaliação dos Modelos (Matriz de Confusão, Acurácia, Precisão, Recall)**",
                "6. **Identificação das Features Mais Importantes**",
                "7. **Ajustes e Melhoria de Desempenho**",
                "8. **Conclusão**"
            ]
        },
        {
            "cell_type": "markdown",
            "metadata": {
                "id": "importacao"
            },
            "source": [
                "## 1. Importação de Bibliotecas e Carregamento dos Dados"
            ]
        },
        {
            "cell_type": "code",
            "metadata": {
                "id": "importacao_codigo"
            },
            "source": [
                "# Importação das bibliotecas necessárias",
                "import pandas as pd",
                "import numpy as np",
                "import matplotlib.pyplot as plt",
                "import seaborn as sns",
                "from sklearn.model_selection import train_test_split",
                "from sklearn.neighbors import KNeighborsClassifier",
                "from sklearn.tree import DecisionTreeClassifier",
                "from sklearn.linear_model import LogisticRegression",
                "from sklearn.metrics import accuracy_score, precision_score, recall_score, confusion_matrix",
                "",
                "# Carregamento dos dados",
                "data = pd.read_csv('databaseHotel.csv')",
                "",
                "# Visualização inicial dos dados",
                "data.head()"
            ]
        },
        {
            "cell_type": "markdown",
            "metadata": {
                "id": "eda"
            },
            "source": [
                "## 2. Análise Exploratória de Dados (EDA)"
            ]
        },
        {
            "cell_type": "code",
            "metadata": {
                "id": "eda_codigo"
            },
            "source": [
                "# Informações gerais sobre o dataset",
                "data.info()",
                "",
                "# Estatísticas descritivas",
                "data.describe()",
                "",
                "# Verificar valores nulos",
                "data.isnull().sum()",
                "",
                "# Distribuição de cancelamentos",
                "sns.countplot(x='is_canceled', data=data)",
                "plt.title('Distribuição de Cancelamentos')",
                "plt.show()"
            ]
        },
        {
            "cell_type": "markdown",
            "metadata": {
                "id": "preparacao"
            },
            "source": [
                "## 3. Preparação dos Dados"
            ]
        },
        {
            "cell_type": "code",
            "metadata": {
                "id": "preparacao_codigo"
            },
            "source": [
                "# Remoção de colunas irrelevantes ou tratamento de valores nulos",
                "data = data.dropna()",
                "",
                "# Separação de features (X) e target (y)",
                "X = data.drop('is_canceled', axis=1)",
                "y = data['is_canceled']",
                "",
                "# Divisão em conjuntos de treino e teste",
                "X_train, X_test, y_train, y_test = train_test_split(X, y, test_size=0.2, random_state=42)"
            ]
        },
        {
            "cell_type": "markdown",
            "metadata": {
                "id": "treinamento"
            },
            "source": [
                "## 4. Treinamento de Modelos (KNN, Árvore de Decisão, Regressão Logística)"
            ]
        },
        {
            "cell_type": "code",
            "metadata": {
                "id": "treinamento_codigo"
            },
            "source": [
                "# Modelo KNN",
                "knn = KNeighborsClassifier(n_neighbors=5)",
                "knn.fit(X_train, y_train)",
                "y_pred_knn = knn.predict(X_test)",
                "print('Acurácia do KNN:', accuracy_score(y_test, y_pred_knn))",
                "",
                "# Modelo Árvore de Decisão",
                "tree = DecisionTreeClassifier(max_depth=5)",
                "tree.fit(X_train, y_train)",
                "y_pred_tree = tree.predict(X_test)",
                "print('Acurácia da Árvore de Decisão:', accuracy_score(y_test, y_pred_tree))",
                "",
                "# Modelo Regressão Logística",
                "logreg = LogisticRegression(max_iter=1000)",
                "logreg.fit(X_train, y_train)",
                "y_pred_logreg = logreg.predict(X_test)",
                "print('Acurácia da Regressão Logística:', accuracy_score(y_test, y_pred_logreg))"
            ]
        },
        {
            "cell_type": "markdown",
            "metadata": {
                "id": "avaliacao"
            },
            "source": [
                "## 5. Avaliação dos Modelos (Matriz de Confusão, Acurácia, Precisão, Recall)"
            ]
        },
        {
            "cell_type": "code",
            "metadata": {
                "id": "avaliacao_codigo"
            },
            "source": [
                "# Comparação de precisão e recall",
                "print('Precisão do KNN:', precision_score(y_test, y_pred_knn))",
                "print('Recall do KNN:', recall_score(y_test, y_pred_knn))",
                "",
                "print('Precisão da Árvore de Decisão:', precision_score(y_test, y_pred_tree))",
                "print('Recall da Árvore de Decisão:', recall_score(y_test, y_pred_tree))",
                "",
                "print('Precisão da Regressão Logística:', precision_score(y_test, y_pred_logreg))",
                "print('Recall da Regressão Logística:', recall_score(y_test, y_pred_logreg))"
            ]
        },
        {
            "cell_type": "markdown",
            "metadata": {
                "id": "importancia"
            },
            "source": [
                "## 6. Identificação das Features Mais Importantes"
            ]
        },
        {
            "cell_type": "code",
            "metadata": {
                "id": "importancia_codigo"
            },
            "source": [
                "# Importância das features na Árvore de Decisão",
                "importances = tree.feature_importances_",
                "feature_importance_df = pd.DataFrame({",
                "    'Feature': X.columns,",
                "    'Importância': importances",
                "}).sort_values(by='Importância', ascending=False)",
                "print(feature_importance_df)",
                "",
                "# Visualização da importância das features",
                "plt.figure(figsize=(10, 6))",
                "sns.barplot(x='Importância', y='Feature', data=feature_importance_df, hue='Feature', palette='viridis', dodge=False, legend=False)",
                "plt.title('Importância das Features - Árvore de Decisão')",
                "plt.show()"
            ]
        },
        {
            "cell_type": "markdown",
            "metadata": {
                "id": "ajustes"
            },
            "source": [
                "## 7. Ajustes e Melhoria de Desempenho"
            ]
        },
        {
            "cell_type": "code",
            "metadata": {
                "id": "ajustes_codigo"
            },
            "source": [
                "# Ajuste de hiperparâmetros para o KNN",
                "knn_tuned = KNeighborsClassifier(n_neighbors=10)",
                "knn_tuned.fit(X_train, y_train)",
                "y_pred_knn_tuned = knn_tuned.predict(X_test)",
                "print('Acurácia do KNN Ajustado:', accuracy_score(y_test, y_pred_knn_tuned))"
            ]
        },
        {
            "cell_type": "markdown",
            "metadata": {
                "id": "conclusao"
            },
            "source": [
                "## 8. Conclusão",
                "",
                "Neste estudo de caso, abordamos o problema de previsão de cancelamentos de reservas de hotel. Através de uma abordagem estruturada, realizamos as seguintes etapas:",
                "",
                "1. **Análise Exploratória de Dados (EDA)**: Identificamos padrões e anomalias nos dados.",
                "2. **Treinamento de Modelos**: Utilizamos três algoritmos principais: KNN, Árvore de Decisão e Regressão Logística.",
                "3. **Avaliação dos Modelos**: Comparação de métricas como acurácia, precisão e recall.",
                "4. **Identificação das Features Mais Importantes**: Analisamos quais variáveis mais influenciam a previsão de cancelamentos.",
                "5. **Ajustes e Melhoria de Desempenho**: Realizamos ajustes nos hiperparâmetros para melhorar a performance dos modelos.",
                "",
                "### Considerações Finais:",
                "- A escolha do modelo ideal depende do objetivo do sistema de previsão de cancelamentos. A análise de importância das features é crucial para entender quais variáveis devem ser priorizadas."
            ]
        }
    ]
}