{
  "cells": [
    {
      "cell_type": "markdown",
      "metadata": {
        "_uuid": "a4075828db45882cbfb46b9b428aa9b79895702b",
        "extensions": {
          "jupyter_dashboards": {
            "version": 1,
            "views": {
              "grid_default": {
                "col": 0,
                "height": 9,
                "hidden": false,
                "row": 0,
                "width": 12
              },
              "report_default": {}
            }
          }
        }
      },
      "source": [
        "## Introduction \n",
        "----\n",
        "This notebook contains Exploratory Data Analysis and Predictive Machine Learning Model for fraud detection. Fraud detection is valuable to many industries including the **banking-financial sectors, insurance, law enforcement, government agencies**, and many more. \n",
        "\n",
        "In recent years we have seen a huge increase in Fraud attempts, making fraud detection important as well as challenging. Despite countless efforts and human supervision, **hundreds of millions** are lost due to **fraud**. Fraud can happen using various methods ie, stolen credit cards, misleading accounting, phishing emails, etc. Due to small cases in large population detection of fraud is important as well as challenging.\n",
        "\n",
        "**Data mining** and **machine learning** help to foresee and **rapidly distinguish fraud** and make **quick move** to limit costs. Using data mining tools, a huge number of transactions can be looked to spot pattern and distinguish fraud transactions.\n",
        "\n",
        "----\n",
        "\n",
        "\n",
        "**Note: To enable complete interactive demo, please install other requirment.**"
      ]
    },
    {
      "cell_type": "code",
      "execution_count": 13,
      "metadata": {
        "_uuid": "f2c53102553667f85d1083464bff097decb41f69",
        "collapsed": true,
        "extensions": {
          "jupyter_dashboards": {
            "version": 1,
            "views": {
              "grid_default": {
                "hidden": true
              },
              "report_default": {
                "hidden": true
              }
            }
          }
        },
        "jupyter": {
          "outputs_hidden": true
        },
        "trusted": true
      },
      "outputs": [],
      "source": [
        "import pandas as pd\n",
        "import numpy as np "
      ]
    },
    {
      "cell_type": "code",
      "execution_count": 14,
      "metadata": {
        "_uuid": "7f32863c91724ba6fa6eda68cfce675b13467049",
        "collapsed": true,
        "extensions": {
          "jupyter_dashboards": {
            "version": 1,
            "views": {
              "grid_default": {
                "hidden": true
              },
              "report_default": {}
            }
          }
        },
        "jupyter": {
          "outputs_hidden": true
        },
        "trusted": true
      },
      "outputs": [],
      "source": [
        "import warnings\n",
        "warnings.filterwarnings(\"ignore\", category=DeprecationWarning)"
      ]
    },
    {
      "cell_type": "code",
      "execution_count": 15,
      "metadata": {
        "_uuid": "06c95b458e6a52c997591b356fde4f52a57ccb48",
        "collapsed": true,
        "extensions": {
          "jupyter_dashboards": {
            "version": 1,
            "views": {
              "grid_default": {
                "hidden": true
              },
              "report_default": {}
            }
          }
        },
        "jupyter": {
          "outputs_hidden": true
        },
        "trusted": true
      },
      "outputs": [],
      "source": [
        "import seaborn as sns\n",
        "import matplotlib.pyplot as plt"
      ]
    },
    {
      "cell_type": "code",
      "execution_count": 16,
      "metadata": {
        "_uuid": "2a74ab59c4293b6c921f9dd12c586da93fc762ea",
        "collapsed": true,
        "extensions": {
          "jupyter_dashboards": {
            "version": 1,
            "views": {
              "grid_default": {
                "hidden": true
              },
              "report_default": {
                "hidden": true
              }
            }
          }
        },
        "jupyter": {
          "outputs_hidden": true
        },
        "trusted": true
      },
      "outputs": [],
      "source": [
        "data = pd.read_csv('databaseFraude.csv')"
      ]
    },
    {
      "cell_type": "code",
      "execution_count": 17,
      "metadata": {
        "_uuid": "6c66496b44bbdfb5e08f1a560bf2f70139dc24b9",
        "collapsed": true,
        "extensions": {
          "jupyter_dashboards": {
            "version": 1,
            "views": {
              "grid_default": {
                "col": 0,
                "height": 12,
                "hidden": false,
                "row": 18,
                "width": 4
              },
              "report_default": {}
            }
          }
        },
        "jupyter": {
          "outputs_hidden": true
        },
        "trusted": true
      },
      "outputs": [
        {
          "name": "stdout",
          "output_type": "stream",
          "text": [
            "Data does not have any NULL value.\n"
          ]
        },
        {
          "data": {
            "text/plain": [
              "step              False\n",
              "type              False\n",
              "amount            False\n",
              "nameOrig          False\n",
              "oldbalanceOrg     False\n",
              "newbalanceOrig    False\n",
              "nameDest          False\n",
              "oldbalanceDest    False\n",
              "newbalanceDest    False\n",
              "isFraud           False\n",
              "isFlaggedFraud    False\n",
              "dtype: bool"
            ]
          },
          "execution_count": 17,
          "metadata": {},
          "output_type": "execute_result"
        }
      ],
      "source": [
        "print('Data does not have any NULL value.')\n",
        "data.isnull().any()"
      ]
    },
    {
      "cell_type": "code",
      "execution_count": 18,
      "metadata": {
        "_uuid": "1ddd4ba1c62d7bc08d9a24c077995d80f11d5e74",
        "collapsed": true,
        "extensions": {
          "jupyter_dashboards": {
            "version": 1,
            "views": {
              "grid_default": {
                "col": 0,
                "height": 6,
                "hidden": false,
                "row": 9,
                "width": 12
              },
              "report_default": {}
            }
          }
        },
        "jupyter": {
          "outputs_hidden": true
        },
        "trusted": true
      },
      "outputs": [
        {
          "data": {
            "text/html": [
              "<div>\n",
              "<style scoped>\n",
              "    .dataframe tbody tr th:only-of-type {\n",
              "        vertical-align: middle;\n",
              "    }\n",
              "\n",
              "    .dataframe tbody tr th {\n",
              "        vertical-align: top;\n",
              "    }\n",
              "\n",
              "    .dataframe thead th {\n",
              "        text-align: right;\n",
              "    }\n",
              "</style>\n",
              "<table border=\"1\" class=\"dataframe\">\n",
              "  <thead>\n",
              "    <tr style=\"text-align: right;\">\n",
              "      <th></th>\n",
              "      <th>step</th>\n",
              "      <th>type</th>\n",
              "      <th>amount</th>\n",
              "      <th>nameOrig</th>\n",
              "      <th>oldbalanceOrg</th>\n",
              "      <th>newbalanceOrig</th>\n",
              "      <th>nameDest</th>\n",
              "      <th>oldbalanceDest</th>\n",
              "      <th>newbalanceDest</th>\n",
              "      <th>isFraud</th>\n",
              "      <th>isFlaggedFraud</th>\n",
              "    </tr>\n",
              "  </thead>\n",
              "  <tbody>\n",
              "    <tr>\n",
              "      <th>0</th>\n",
              "      <td>1</td>\n",
              "      <td>PAYMENT</td>\n",
              "      <td>9839.64</td>\n",
              "      <td>C1231006815</td>\n",
              "      <td>170136.0</td>\n",
              "      <td>160296.36</td>\n",
              "      <td>M1979787155</td>\n",
              "      <td>0.0</td>\n",
              "      <td>0.0</td>\n",
              "      <td>0</td>\n",
              "      <td>0</td>\n",
              "    </tr>\n",
              "    <tr>\n",
              "      <th>1</th>\n",
              "      <td>1</td>\n",
              "      <td>PAYMENT</td>\n",
              "      <td>1864.28</td>\n",
              "      <td>C1666544295</td>\n",
              "      <td>21249.0</td>\n",
              "      <td>19384.72</td>\n",
              "      <td>M2044282225</td>\n",
              "      <td>0.0</td>\n",
              "      <td>0.0</td>\n",
              "      <td>0</td>\n",
              "      <td>0</td>\n",
              "    </tr>\n",
              "    <tr>\n",
              "      <th>2</th>\n",
              "      <td>1</td>\n",
              "      <td>TRANSFER</td>\n",
              "      <td>181.00</td>\n",
              "      <td>C1305486145</td>\n",
              "      <td>181.0</td>\n",
              "      <td>0.00</td>\n",
              "      <td>C553264065</td>\n",
              "      <td>0.0</td>\n",
              "      <td>0.0</td>\n",
              "      <td>1</td>\n",
              "      <td>0</td>\n",
              "    </tr>\n",
              "    <tr>\n",
              "      <th>3</th>\n",
              "      <td>1</td>\n",
              "      <td>CASH_OUT</td>\n",
              "      <td>181.00</td>\n",
              "      <td>C840083671</td>\n",
              "      <td>181.0</td>\n",
              "      <td>0.00</td>\n",
              "      <td>C38997010</td>\n",
              "      <td>21182.0</td>\n",
              "      <td>0.0</td>\n",
              "      <td>1</td>\n",
              "      <td>0</td>\n",
              "    </tr>\n",
              "    <tr>\n",
              "      <th>4</th>\n",
              "      <td>1</td>\n",
              "      <td>PAYMENT</td>\n",
              "      <td>11668.14</td>\n",
              "      <td>C2048537720</td>\n",
              "      <td>41554.0</td>\n",
              "      <td>29885.86</td>\n",
              "      <td>M1230701703</td>\n",
              "      <td>0.0</td>\n",
              "      <td>0.0</td>\n",
              "      <td>0</td>\n",
              "      <td>0</td>\n",
              "    </tr>\n",
              "  </tbody>\n",
              "</table>\n",
              "</div>"
            ],
            "text/plain": [
              "   step      type    amount     nameOrig  oldbalanceOrg  newbalanceOrig  \\\n",
              "0     1   PAYMENT   9839.64  C1231006815       170136.0       160296.36   \n",
              "1     1   PAYMENT   1864.28  C1666544295        21249.0        19384.72   \n",
              "2     1  TRANSFER    181.00  C1305486145          181.0            0.00   \n",
              "3     1  CASH_OUT    181.00   C840083671          181.0            0.00   \n",
              "4     1   PAYMENT  11668.14  C2048537720        41554.0        29885.86   \n",
              "\n",
              "      nameDest  oldbalanceDest  newbalanceDest  isFraud  isFlaggedFraud  \n",
              "0  M1979787155             0.0             0.0        0               0  \n",
              "1  M2044282225             0.0             0.0        0               0  \n",
              "2   C553264065             0.0             0.0        1               0  \n",
              "3    C38997010         21182.0             0.0        1               0  \n",
              "4  M1230701703             0.0             0.0        0               0  "
            ]
          },
          "execution_count": 18,
          "metadata": {},
          "output_type": "execute_result"
        }
      ],
      "source": [
        "data.head()"
      ]
    },
    {
      "cell_type": "code",
      "execution_count": 19,
      "metadata": {
        "_uuid": "621e32f2e2e5d1d9b276163d5342218bed7854f8",
        "collapsed": true,
        "jupyter": {
          "outputs_hidden": true
        },
        "trusted": true
      },
      "outputs": [],
      "source": [
        "data.rename(columns={'newbalanceOrig':'newbalanceOrg'},inplace=True)\n",
        "data.drop(labels=['nameOrig','nameDest'],axis=1,inplace=True)"
      ]
    },
    {
      "cell_type": "markdown",
      "metadata": {
        "_uuid": "6b9fcd014e3010d9d4ee9ba17fea8a7dca56ed11",
        "extensions": {
          "jupyter_dashboards": {
            "version": 1,
            "views": {
              "grid_default": {
                "col": 0,
                "height": 4,
                "hidden": false,
                "row": 34,
                "width": 12
              },
              "report_default": {}
            }
          }
        }
      },
      "source": [
        "The provided data has the financial transaction data as well as the target variable **isFraud**, which is the actual fraud status of the transaction and **isFlaggedFraud** is the indicator which the simulation is used to flag the transaction using some **threshold value**."
      ]
    },
    {
      "cell_type": "code",
      "execution_count": 20,
      "metadata": {
        "_uuid": "b2c0b00e4a2fbf787fa7c62aea5b3d43ca114f49",
        "collapsed": true,
        "extensions": {
          "jupyter_dashboards": {
            "version": 1,
            "views": {
              "grid_default": {
                "col": 8,
                "height": 6,
                "hidden": false,
                "row": 75,
                "width": 4
              },
              "report_default": {}
            }
          }
        },
        "jupyter": {
          "outputs_hidden": true
        },
        "trusted": false
      },
      "outputs": [
        {
          "name": "stdout",
          "output_type": "stream",
          "text": [
            "Minimum value of Amount, Old/New Balance of Origin/Destination:\n"
          ]
        },
        {
          "data": {
            "text/plain": [
              "amount            0.0\n",
              "oldbalanceOrg     0.0\n",
              "newbalanceOrg     0.0\n",
              "oldbalanceDest    0.0\n",
              "newbalanceDest    0.0\n",
              "dtype: float64"
            ]
          },
          "execution_count": 20,
          "metadata": {},
          "output_type": "execute_result"
        }
      ],
      "source": [
        "print('Minimum value of Amount, Old/New Balance of Origin/Destination:')\n",
        "data[[ 'amount','oldbalanceOrg', 'newbalanceOrg', 'oldbalanceDest', 'newbalanceDest']].min()"
      ]
    },
    {
      "cell_type": "code",
      "execution_count": 21,
      "metadata": {
        "_uuid": "29936fc4c56c2142860d5cc1bfbec4811c024a7d",
        "collapsed": true,
        "extensions": {
          "jupyter_dashboards": {
            "version": 1,
            "views": {
              "grid_default": {
                "col": 0,
                "height": 6,
                "hidden": false,
                "row": 80,
                "width": 4
              },
              "report_default": {}
            }
          }
        },
        "jupyter": {
          "outputs_hidden": true
        },
        "trusted": false
      },
      "outputs": [
        {
          "name": "stdout",
          "output_type": "stream",
          "text": [
            "Maximum value of Amount, Old/New Balance of Origin/Destination:\n"
          ]
        },
        {
          "data": {
            "text/plain": [
              "amount            9.244552e+07\n",
              "oldbalanceOrg     5.958504e+07\n",
              "newbalanceOrg     4.958504e+07\n",
              "oldbalanceDest    3.560159e+08\n",
              "newbalanceDest    3.561793e+08\n",
              "dtype: float64"
            ]
          },
          "execution_count": 21,
          "metadata": {},
          "output_type": "execute_result"
        }
      ],
      "source": [
        "print('Maximum value of Amount, Old/New Balance of Origin/Destination:')\n",
        "data[[ 'amount','oldbalanceOrg', 'newbalanceOrg', 'oldbalanceDest', 'newbalanceDest']].max()"
      ]
    },
    {
      "cell_type": "markdown",
      "metadata": {
        "_uuid": "990f1a43a42c9d2e9fdd02eac5eeccd5c57147cd",
        "extensions": {
          "jupyter_dashboards": {
            "version": 1,
            "views": {
              "grid_default": {
                "col": 0,
                "height": 4,
                "hidden": false,
                "row": 30,
                "width": 12
              },
              "report_default": {}
            }
          }
        }
      },
      "source": [
        "## Data Analysis\n",
        "\n",
        "----\n",
        "Since there is **no missing** and **garbage value**, there is no need for data cleaning, but we still need to perform **data analysis** as data contaion huge variation of the value in different columns. Normalization will also imporve the overall accuracy of the machine learning model.\n",
        "\n",
        "----"
      ]
    },
    {
      "cell_type": "code",
      "execution_count": 22,
      "metadata": {
        "_uuid": "0cc09c8fa3ed3082385168ebb7a055cf09197d2f",
        "collapsed": true,
        "extensions": {
          "jupyter_dashboards": {
            "version": 1,
            "views": {
              "grid_default": {
                "col": 0,
                "height": 11,
                "hidden": false,
                "row": 42,
                "width": 4
              },
              "report_default": {}
            }
          }
        },
        "jupyter": {
          "outputs_hidden": true
        },
        "trusted": false
      },
      "outputs": [
        {
          "data": {
            "image/png": "[encoded data removed]",
            "text/plain": [
              "<Figure size 640x480 with 1 Axes>"
            ]
          },
          "metadata": {},
          "output_type": "display_data"
        }
      ],
      "source": [
        "var = data.groupby('type').amount.sum()\n",
        "fig = plt.figure()\n",
        "ax1 = fig.add_subplot(1,1,1)\n",
        "var.plot(kind='bar')\n",
        "ax1.set_title(\"Total amount per transaction type\")\n",
        "ax1.set_xlabel('Type of Transaction')\n",
        "ax1.set_ylabel('Amount');"
      ]
    },
    {
      "cell_type": "code",
      "execution_count": 23,
      "metadata": {
        "_uuid": "20d468f5cb2f066036d75a643d0c7b851a8c64f1",
        "collapsed": true,
        "extensions": {
          "jupyter_dashboards": {
            "version": 1,
            "views": {
              "grid_default": {
                "col": 8,
                "height": 4,
                "hidden": false,
                "row": 18,
                "width": 4
              },
              "report_default": {}
            }
          }
        },
        "jupyter": {
          "outputs_hidden": true
        },
        "trusted": false
      },
      "outputs": [
        {
          "data": {
            "text/plain": [
              "array(['TRANSFER', 'CASH_OUT'], dtype=object)"
            ]
          },
          "execution_count": 23,
          "metadata": {},
          "output_type": "execute_result"
        }
      ],
      "source": [
        "data.loc[data.isFraud == 1].type.unique()"
      ]
    },
    {
      "cell_type": "markdown",
      "metadata": {
        "_uuid": "9dc83d4724806d1dbd2f63cdc8e0b17e83bb827d",
        "extensions": {
          "jupyter_dashboards": {
            "version": 1,
            "views": {
              "grid_default": {
                "col": 4,
                "height": 4,
                "hidden": false,
                "row": 82,
                "width": null
              },
              "report_default": {}
            }
          }
        }
      },
      "source": [
        "The graph above shows that **TRANSFER** and **CASH_OUT** are two most used mode of transaction and we can see that **TRANSFER** and **CASH_OUT** are also the only way in which fraud happen. **Thus we will focus on this type of transactions**."
      ]
    },
    {
      "cell_type": "code",
      "execution_count": null,
      "metadata": {
        "_uuid": "7b435715d2385df2697855842c2e178ce4471049",
        "collapsed": true,
        "extensions": {
          "jupyter_dashboards": {
            "version": 1,
            "views": {
              "grid_default": {
                "col": 4,
                "height": 10,
                "hidden": false,
                "row": 42,
                "width": 4
              },
              "report_default": {}
            }
          }
        },
        "jupyter": {
          "outputs_hidden": true
        },
        "trusted": false
      },
      "outputs": [
        {
          "ename": "ValueError",
          "evalue": "could not convert string to float: 'PAYMENT'",
          "output_type": "error",
          "traceback": [
            "\u001b[31m---------------------------------------------------------------------------\u001b[39m",
            "\u001b[31mValueError\u001b[39m                                Traceback (most recent call last)",
            "\u001b[36mCell\u001b[39m\u001b[36m \u001b[39m\u001b[32mIn[24]\u001b[39m\u001b[32m, line 1\u001b[39m\n\u001b[32m----> \u001b[39m\u001b[32m1\u001b[39m sns.heatmap(\u001b[43mdata\u001b[49m\u001b[43m.\u001b[49m\u001b[43mcorr\u001b[49m\u001b[43m(\u001b[49m\u001b[43m)\u001b[49m,cmap=\u001b[33m'\u001b[39m\u001b[33mRdBu\u001b[39m\u001b[33m'\u001b[39m);\n",
            "\u001b[36mFile \u001b[39m\u001b[32m~\\AppData\\Roaming\\Python\\Python313\\site-packages\\pandas\\core\\frame.py:11049\u001b[39m, in \u001b[36mDataFrame.corr\u001b[39m\u001b[34m(self, method, min_periods, numeric_only)\u001b[39m\n\u001b[32m  11047\u001b[39m cols = data.columns\n\u001b[32m  11048\u001b[39m idx = cols.copy()\n\u001b[32m> \u001b[39m\u001b[32m11049\u001b[39m mat = \u001b[43mdata\u001b[49m\u001b[43m.\u001b[49m\u001b[43mto_numpy\u001b[49m\u001b[43m(\u001b[49m\u001b[43mdtype\u001b[49m\u001b[43m=\u001b[49m\u001b[38;5;28;43mfloat\u001b[39;49m\u001b[43m,\u001b[49m\u001b[43m \u001b[49m\u001b[43mna_value\u001b[49m\u001b[43m=\u001b[49m\u001b[43mnp\u001b[49m\u001b[43m.\u001b[49m\u001b[43mnan\u001b[49m\u001b[43m,\u001b[49m\u001b[43m \u001b[49m\u001b[43mcopy\u001b[49m\u001b[43m=\u001b[49m\u001b[38;5;28;43;01mFalse\u001b[39;49;00m\u001b[43m)\u001b[49m\n\u001b[32m  11051\u001b[39m \u001b[38;5;28;01mif\u001b[39;00m method == \u001b[33m\"\u001b[39m\u001b[33mpearson\u001b[39m\u001b[33m\"\u001b[39m:\n\u001b[32m  11052\u001b[39m     correl = libalgos.nancorr(mat, minp=min_periods)\n",
            "\u001b[36mFile \u001b[39m\u001b[32m~\\AppData\\Roaming\\Python\\Python313\\site-packages\\pandas\\core\\frame.py:1993\u001b[39m, in \u001b[36mDataFrame.to_numpy\u001b[39m\u001b[34m(self, dtype, copy, na_value)\u001b[39m\n\u001b[32m   1991\u001b[39m \u001b[38;5;28;01mif\u001b[39;00m dtype \u001b[38;5;129;01mis\u001b[39;00m \u001b[38;5;129;01mnot\u001b[39;00m \u001b[38;5;28;01mNone\u001b[39;00m:\n\u001b[32m   1992\u001b[39m     dtype = np.dtype(dtype)\n\u001b[32m-> \u001b[39m\u001b[32m1993\u001b[39m result = \u001b[38;5;28;43mself\u001b[39;49m\u001b[43m.\u001b[49m\u001b[43m_mgr\u001b[49m\u001b[43m.\u001b[49m\u001b[43mas_array\u001b[49m\u001b[43m(\u001b[49m\u001b[43mdtype\u001b[49m\u001b[43m=\u001b[49m\u001b[43mdtype\u001b[49m\u001b[43m,\u001b[49m\u001b[43m \u001b[49m\u001b[43mcopy\u001b[49m\u001b[43m=\u001b[49m\u001b[43mcopy\u001b[49m\u001b[43m,\u001b[49m\u001b[43m \u001b[49m\u001b[43mna_value\u001b[49m\u001b[43m=\u001b[49m\u001b[43mna_value\u001b[49m\u001b[43m)\u001b[49m\n\u001b[32m   1994\u001b[39m \u001b[38;5;28;01mif\u001b[39;00m result.dtype \u001b[38;5;129;01mis\u001b[39;00m \u001b[38;5;129;01mnot\u001b[39;00m dtype:\n\u001b[32m   1995\u001b[39m     result = np.asarray(result, dtype=dtype)\n",
            "\u001b[36mFile \u001b[39m\u001b[32m~\\AppData\\Roaming\\Python\\Python313\\site-packages\\pandas\\core\\internals\\managers.py:1694\u001b[39m, in \u001b[36mBlockManager.as_array\u001b[39m\u001b[34m(self, dtype, copy, na_value)\u001b[39m\n\u001b[32m   1692\u001b[39m         arr.flags.writeable = \u001b[38;5;28;01mFalse\u001b[39;00m\n\u001b[32m   1693\u001b[39m \u001b[38;5;28;01melse\u001b[39;00m:\n\u001b[32m-> \u001b[39m\u001b[32m1694\u001b[39m     arr = \u001b[38;5;28;43mself\u001b[39;49m\u001b[43m.\u001b[49m\u001b[43m_interleave\u001b[49m\u001b[43m(\u001b[49m\u001b[43mdtype\u001b[49m\u001b[43m=\u001b[49m\u001b[43mdtype\u001b[49m\u001b[43m,\u001b[49m\u001b[43m \u001b[49m\u001b[43mna_value\u001b[49m\u001b[43m=\u001b[49m\u001b[43mna_value\u001b[49m\u001b[43m)\u001b[49m\n\u001b[32m   1695\u001b[39m     \u001b[38;5;66;03m# The underlying data was copied within _interleave, so no need\u001b[39;00m\n\u001b[32m   1696\u001b[39m     \u001b[38;5;66;03m# to further copy if copy=True or setting na_value\u001b[39;00m\n\u001b[32m   1698\u001b[39m \u001b[38;5;28;01mif\u001b[39;00m na_value \u001b[38;5;129;01mis\u001b[39;00m lib.no_default:\n",
            "\u001b[36mFile \u001b[39m\u001b[32m~\\AppData\\Roaming\\Python\\Python313\\site-packages\\pandas\\core\\internals\\managers.py:1753\u001b[39m, in \u001b[36mBlockManager._interleave\u001b[39m\u001b[34m(self, dtype, na_value)\u001b[39m\n\u001b[32m   1751\u001b[39m     \u001b[38;5;28;01melse\u001b[39;00m:\n\u001b[32m   1752\u001b[39m         arr = blk.get_values(dtype)\n\u001b[32m-> \u001b[39m\u001b[32m1753\u001b[39m     \u001b[43mresult\u001b[49m\u001b[43m[\u001b[49m\u001b[43mrl\u001b[49m\u001b[43m.\u001b[49m\u001b[43mindexer\u001b[49m\u001b[43m]\u001b[49m = arr\n\u001b[32m   1754\u001b[39m     itemmask[rl.indexer] = \u001b[32m1\u001b[39m\n\u001b[32m   1756\u001b[39m \u001b[38;5;28;01mif\u001b[39;00m \u001b[38;5;129;01mnot\u001b[39;00m itemmask.all():\n",
            "\u001b[31mValueError\u001b[39m: could not convert string to float: 'PAYMENT'"
          ]
        }
      ],
      "source": [
        "# Filtrar apenas as colunas numéricas\n",
        "numeric_data = data.select_dtypes(include=['number'])\n",
        "\n",
        "# Gerar o heatmap com os dados numéricos\n",
        "sns.heatmap(numeric_data.corr(), cmap='RdBu')"
      ]
    },
    {
      "cell_type": "markdown",
      "metadata": {
        "_uuid": "b203123c07fe9c2b27be600f10233ff06e77e248",
        "extensions": {
          "jupyter_dashboards": {
            "version": 1,
            "views": {
              "grid_default": {
                "col": 4,
                "height": 4,
                "hidden": false,
                "row": 18,
                "width": 4
              },
              "report_default": {}
            }
          }
        }
      },
      "source": [
        "** Things we can conclude from this heatmap: **\n",
        "\n",
        "* OldbalanceOrg and NewbalanceOrg are highly correlated.\n",
        "* OldbalanceDest and NewbalanceDest are highly correlated.\n",
        "* Amount is correlated with isFraud(Target Variable).\n",
        "\n",
        "There is not much relation between the features, so we need to understand where the relationship between them depends on the type of transaction and amount. To do so, **we need to see the heat map of fraud and nonfraud transactions differently**."
      ]
    },
    {
      "cell_type": "code",
      "execution_count": null,
      "metadata": {
        "_uuid": "7ca654f557ef4649b83c960e96a80da1d7f7c564",
        "collapsed": true,
        "extensions": {
          "jupyter_dashboards": {
            "version": 1,
            "views": {
              "grid_default": {
                "hidden": true
              },
              "report_default": {}
            }
          }
        },
        "jupyter": {
          "outputs_hidden": true
        },
        "trusted": false
      },
      "outputs": [],
      "source": [
        "fraud = data.loc[data.isFraud == 1]\n",
        "nonfraud = data.loc[data.isFraud == 0]"
      ]
    },
    {
      "cell_type": "code",
      "execution_count": null,
      "metadata": {
        "_uuid": "e29a22781bb372135b6c3b59874e2ba739b4fefc",
        "collapsed": true,
        "extensions": {
          "jupyter_dashboards": {
            "version": 1,
            "views": {
              "grid_default": {
                "hidden": true
              },
              "report_default": {
                "hidden": true
              }
            }
          }
        },
        "jupyter": {
          "outputs_hidden": true
        },
        "trusted": false
      },
      "outputs": [],
      "source": [
        "fraudcount = fraud.isFraud.count()\n",
        "nonfraudcount = nonfraud.isFraud.count()"
      ]
    },
    {
      "cell_type": "code",
      "execution_count": null,
      "metadata": {
        "_uuid": "856b0174b74b0dcffc0c5a09c576ffeb868fc346",
        "collapsed": true,
        "extensions": {
          "jupyter_dashboards": {
            "version": 1,
            "views": {
              "grid_default": {
                "col": 0,
                "height": 10,
                "hidden": false,
                "row": 90,
                "width": 4
              },
              "report_default": {}
            }
          }
        },
        "jupyter": {
          "outputs_hidden": true
        },
        "trusted": false
      },
      "outputs": [],
      "source": [
        "sns.heatmap(fraud.corr(),cmap='RdBu',);"
      ]
    },
    {
      "cell_type": "markdown",
      "metadata": {
        "_uuid": "77446cb414915e372ba5cb395fdf200b2ac2b14b",
        "extensions": {
          "jupyter_dashboards": {
            "version": 1,
            "views": {
              "grid_default": {
                "col": 0,
                "height": 4,
                "hidden": false,
                "row": 38,
                "width": 12
              },
              "report_default": {}
            }
          }
        }
      },
      "source": [
        "There are 2 flags which stand out to me and it's interesting to look onto: isFraud and isFlaggedFraud column. From the hypothesis, **isFraud** is the indicator which indicates the **actual fraud transactions** whereas **isFlaggedFraud** is what the system prevents the transaction due to **some thresholds** being triggered. From the above heatmap we can see that there is some relation between other columns and isFlaggedFraud thus there must be relation between isFraud."
      ]
    },
    {
      "cell_type": "code",
      "execution_count": null,
      "metadata": {
        "_uuid": "19cf6dec2b9c3ecb2854d591c48fe6dd17639cc9",
        "collapsed": true,
        "extensions": {
          "jupyter_dashboards": {
            "version": 1,
            "views": {
              "grid_default": {
                "hidden": true
              },
              "report_default": {
                "hidden": true
              }
            }
          }
        },
        "jupyter": {
          "outputs_hidden": true
        },
        "scrolled": true,
        "trusted": false
      },
      "outputs": [],
      "source": [
        "print('The total number of fraud transaction is {}.'.format(data.isFraud.sum()))\n",
        "print('The total number of fraud transaction which is marked as fraud {}.'.format(data.isFlaggedFraud.sum()))\n",
        "print('Ratio of fraud transaction vs non-fraud transaction is 1:{}.'.format(int(nonfraudcount//fraudcount)))"
      ]
    },
    {
      "cell_type": "code",
      "execution_count": null,
      "metadata": {
        "_uuid": "277b54f8f9ccda14c826bfee946d61ef68c5bde6",
        "collapsed": true,
        "extensions": {
          "jupyter_dashboards": {
            "version": 1,
            "views": {
              "grid_default": {
                "hidden": true
              },
              "report_default": {
                "hidden": true
              }
            }
          }
        },
        "jupyter": {
          "outputs_hidden": true
        },
        "trusted": false
      },
      "outputs": [],
      "source": [
        "print('Thus in every 773 transaction there is 1 fraud transaction happening.')\n",
        "print('Amount lost due to these fraud transaction is ${}.'.format(int(fraud.amount.sum())))"
      ]
    },
    {
      "cell_type": "code",
      "execution_count": null,
      "metadata": {
        "_uuid": "b424f0aef743ac105e5487156699fd841bbcda25",
        "collapsed": true,
        "extensions": {
          "jupyter_dashboards": {
            "version": 1,
            "views": {
              "grid_default": {
                "hidden": true
              },
              "report_default": {}
            }
          }
        },
        "jupyter": {
          "outputs_hidden": true
        },
        "trusted": false
      },
      "outputs": [],
      "source": [
        "piedata = fraud.groupby(['isFlaggedFraud']).sum()"
      ]
    },
    {
      "cell_type": "code",
      "execution_count": null,
      "metadata": {
        "_uuid": "d9e4683b90e8ebde9756ed605bf415755457fdb2",
        "collapsed": true,
        "extensions": {
          "jupyter_dashboards": {
            "version": 1,
            "views": {
              "grid_default": {
                "col": 4,
                "height": 12,
                "hidden": false,
                "row": 70,
                "width": 4
              },
              "report_default": {}
            }
          }
        },
        "jupyter": {
          "outputs_hidden": true
        },
        "trusted": false
      },
      "outputs": [],
      "source": [
        "f, axes = plt.subplots(1,1, figsize=(6,6))\n",
        "axes.set_title(\"% of fraud transaction detected\")\n",
        "piedata.plot(kind='pie',y='isFraud',ax=axes, fontsize=14,shadow=False,autopct='%1.1f%%');\n",
        "axes.set_ylabel('');\n",
        "plt.legend(loc='upper left',labels=['Not Detected','Detected'])\n",
        "plt.show()"
      ]
    },
    {
      "cell_type": "code",
      "execution_count": null,
      "metadata": {
        "_uuid": "4d0245222e5578c551f3d49ae52a3ca4444f769e",
        "collapsed": true,
        "extensions": {
          "jupyter_dashboards": {
            "version": 1,
            "views": {
              "grid_default": {
                "col": 0,
                "height": 9,
                "hidden": false,
                "row": 63,
                "width": 4
              },
              "report_default": {}
            }
          }
        },
        "jupyter": {
          "outputs_hidden": true
        },
        "trusted": false
      },
      "outputs": [],
      "source": [
        "fig = plt.figure()\n",
        "axes = fig.add_subplot(1,1,1)\n",
        "axes.set_title(\"Fraud transaction which are Flagged Correctly\")\n",
        "axes.scatter(nonfraud['amount'],nonfraud['isFlaggedFraud'],c='g')\n",
        "axes.scatter(fraud['amount'],fraud['isFlaggedFraud'],c='r')\n",
        "plt.legend(loc='upper right',labels=['Not Flagged','Flagged'])\n",
        "plt.show()"
      ]
    },
    {
      "cell_type": "markdown",
      "metadata": {
        "_uuid": "e1a1d70eaa5f6d23beb0c6e29d00b0ab62a7129c"
      },
      "source": [
        "The plot above clearly shows the **need** for a system which can be **fast** and **reliable** to mark the transaction which is fraud. Since, the current system is letting fraud transaction able to **pass through a system** which is **not labeling them as a fraud**. Some data exploration can be helpful to check for the relation between features."
      ]
    },
    {
      "cell_type": "markdown",
      "metadata": {
        "_uuid": "2449cb865977629acd7ed6f33e18c9cd565f12f0",
        "extensions": {
          "jupyter_dashboards": {
            "version": 1,
            "views": {
              "grid_default": {
                "col": 8,
                "height": 4,
                "hidden": false,
                "row": 22,
                "width": 4
              },
              "report_default": {}
            }
          }
        }
      },
      "source": [
        "## Data Exploration\n"
      ]
    },
    {
      "cell_type": "code",
      "execution_count": null,
      "metadata": {
        "_uuid": "deaa17fb42089bf4c85d09119341d4ff1f5863d6",
        "collapsed": true,
        "extensions": {
          "jupyter_dashboards": {
            "version": 1,
            "views": {
              "grid_default": {
                "col": 0,
                "height": 10,
                "hidden": false,
                "row": 53,
                "width": 4
              },
              "report_default": {}
            }
          }
        },
        "jupyter": {
          "outputs_hidden": true
        },
        "trusted": false
      },
      "outputs": [],
      "source": [
        "fig = plt.figure()\n",
        "ax = fig.add_subplot(1,1,1)\n",
        "ax.scatter(nonfraud['oldbalanceOrg'],nonfraud['amount'],c='g')\n",
        "ax.scatter(fraud['oldbalanceOrg'],fraud['amount'],c='r')\n",
        "plt.show()"
      ]
    },
    {
      "cell_type": "code",
      "execution_count": null,
      "metadata": {
        "_uuid": "30791af5cdbe8f4cc9f4acfa27fd889a8f1817fa",
        "collapsed": true,
        "extensions": {
          "jupyter_dashboards": {
            "version": 1,
            "views": {
              "grid_default": {
                "col": 4,
                "height": 9,
                "hidden": false,
                "row": 52,
                "width": 4
              },
              "report_default": {}
            }
          }
        },
        "jupyter": {
          "outputs_hidden": true
        },
        "trusted": false
      },
      "outputs": [],
      "source": [
        "fig = plt.figure()\n",
        "ax = fig.add_subplot(1,1,1)\n",
        "ax.scatter(fraud['step'],fraud['oldbalanceOrg'])\n",
        "ax.scatter(fraud['step'],fraud['oldbalanceDest'])\n",
        "plt.show()"
      ]
    },
    {
      "cell_type": "code",
      "execution_count": null,
      "metadata": {
        "_uuid": "105c9f0ad0168058147e0841ebbed416a9e0a3cc",
        "collapsed": true,
        "extensions": {
          "jupyter_dashboards": {
            "version": 1,
            "views": {
              "grid_default": {
                "col": 8,
                "height": 9,
                "hidden": false,
                "row": 53,
                "width": 4
              },
              "report_default": {}
            }
          }
        },
        "jupyter": {
          "outputs_hidden": true
        },
        "trusted": false
      },
      "outputs": [],
      "source": [
        "fig = plt.figure()\n",
        "ax = fig.add_subplot(1,1,1)\n",
        "ax.scatter(fraud['step'],fraud['newbalanceOrg'])\n",
        "ax.scatter(fraud['step'],fraud['newbalanceDest'])\n",
        "plt.show()"
      ]
    },
    {
      "cell_type": "code",
      "execution_count": null,
      "metadata": {
        "_uuid": "8f938e53d0c2e35c7da69b8a437973feb014a3e8",
        "collapsed": true,
        "extensions": {
          "jupyter_dashboards": {
            "version": 1,
            "views": {
              "grid_default": {
                "col": 4,
                "height": 9,
                "hidden": false,
                "row": 61,
                "width": 4
              },
              "report_default": {}
            }
          }
        },
        "jupyter": {
          "outputs_hidden": true
        },
        "trusted": false
      },
      "outputs": [],
      "source": [
        "fig = plt.figure()\n",
        "ax = fig.add_subplot(1,1,1)\n",
        "ax.scatter(fraud['step'],fraud['newbalanceDest'])\n",
        "ax.scatter(fraud['step'],fraud['oldbalanceDest'])\n",
        "plt.show()"
      ]
    },
    {
      "cell_type": "code",
      "execution_count": null,
      "metadata": {
        "_uuid": "78b8c74dcd94c8f83ecddaed3d846deb6893e2a6",
        "collapsed": true,
        "extensions": {
          "jupyter_dashboards": {
            "version": 1,
            "views": {
              "grid_default": {
                "col": 8,
                "height": 9,
                "hidden": false,
                "row": 62,
                "width": 4
              },
              "report_default": {}
            }
          }
        },
        "jupyter": {
          "outputs_hidden": true
        },
        "trusted": false
      },
      "outputs": [],
      "source": [
        "fig = plt.figure()\n",
        "ax = fig.add_subplot(1,1,1)\n",
        "ax.scatter(fraud['step'],fraud['oldbalanceOrg'])\n",
        "ax.scatter(fraud['step'],fraud['newbalanceOrg'])\n",
        "plt.show()"
      ]
    },
    {
      "cell_type": "markdown",
      "metadata": {
        "_uuid": "3638ed1d30bbae0fbf2d3032a6826e8455de6b85",
        "extensions": {
          "jupyter_dashboards": {
            "version": 1,
            "views": {
              "grid_default": {
                "col": 8,
                "height": 4,
                "hidden": false,
                "row": 71,
                "width": 4
              },
              "report_default": {}
            }
          }
        }
      },
      "source": [
        "## Data Cleaning"
      ]
    },
    {
      "cell_type": "code",
      "execution_count": null,
      "metadata": {
        "_uuid": "9bdc19ca819af532dc0da285bb8e0d95a1b90235",
        "collapsed": true,
        "extensions": {
          "jupyter_dashboards": {
            "version": 1,
            "views": {
              "grid_default": {
                "hidden": true
              },
              "report_default": {
                "hidden": true
              }
            }
          }
        },
        "jupyter": {
          "outputs_hidden": true
        },
        "trusted": false
      },
      "outputs": [],
      "source": [
        "import pandas as pd\n",
        "import numpy as np \n",
        "import pickle"
      ]
    },
    {
      "cell_type": "code",
      "execution_count": null,
      "metadata": {
        "_uuid": "e5f97d31cdf1af3444373fa0757a7dc9185375d1",
        "collapsed": true,
        "extensions": {
          "jupyter_dashboards": {
            "version": 1,
            "views": {
              "grid_default": {
                "hidden": true
              },
              "report_default": {
                "hidden": true
              }
            }
          }
        },
        "jupyter": {
          "outputs_hidden": true
        },
        "trusted": false
      },
      "outputs": [],
      "source": [
        "import warnings\n",
        "warnings.filterwarnings(\"ignore\", category=DeprecationWarning)"
      ]
    },
    {
      "cell_type": "code",
      "execution_count": null,
      "metadata": {
        "_uuid": "f64ded14ddf0283b81c37a6b17a2b3c4accd5cda",
        "collapsed": true,
        "extensions": {
          "jupyter_dashboards": {
            "version": 1,
            "views": {
              "grid_default": {
                "hidden": true
              },
              "report_default": {}
            }
          }
        },
        "jupyter": {
          "outputs_hidden": true
        },
        "trusted": false
      },
      "outputs": [],
      "source": [
        "data_fraud = pd.read_csv('databaseFraude.csv')"
      ]
    },
    {
      "cell_type": "code",
      "execution_count": null,
      "metadata": {
        "_uuid": "4c8343999af5487206cf922875de732bdd5422de",
        "collapsed": true,
        "extensions": {
          "jupyter_dashboards": {
            "version": 1,
            "views": {
              "grid_default": {
                "hidden": true
              },
              "report_default": {}
            }
          }
        },
        "jupyter": {
          "outputs_hidden": true
        },
        "trusted": false
      },
      "outputs": [],
      "source": [
        "data_fraud = data_fraud.replace(to_replace={'PAYMENT':1,'TRANSFER':2,'CASH_OUT':3,\n",
        "                                            'CASH_IN':4,'DEBIT':5,'No':0,'Yes':1})"
      ]
    },
    {
      "cell_type": "code",
      "execution_count": null,
      "metadata": {
        "_uuid": "1b9cf6f8033dbdd51445106b060ce25461e5c9d8",
        "collapsed": true,
        "extensions": {
          "jupyter_dashboards": {
            "version": 1,
            "views": {
              "grid_default": {
                "hidden": true
              },
              "report_default": {}
            }
          }
        },
        "jupyter": {
          "outputs_hidden": true
        },
        "trusted": false
      },
      "outputs": [],
      "source": [
        "data_fraud.drop(['nameOrig','nameDest','isFlaggedFraud'],axis=1,inplace=True)"
      ]
    },
    {
      "cell_type": "code",
      "execution_count": null,
      "metadata": {
        "_uuid": "198b71e17c26520e5e79d151489c9ebaf3e9af04",
        "collapsed": true,
        "extensions": {
          "jupyter_dashboards": {
            "version": 1,
            "views": {
              "grid_default": {
                "col": 4,
                "height": 7,
                "hidden": false,
                "row": 86,
                "width": 7
              },
              "report_default": {}
            }
          }
        },
        "jupyter": {
          "outputs_hidden": true
        },
        "trusted": false
      },
      "outputs": [],
      "source": [
        "data_fraud.head()"
      ]
    },
    {
      "cell_type": "code",
      "execution_count": null,
      "metadata": {
        "_uuid": "d6c7c417f0e102c61ff91bf48100b51f74dfd830",
        "collapsed": true,
        "extensions": {
          "jupyter_dashboards": {
            "version": 1,
            "views": {
              "grid_default": {
                "hidden": true
              },
              "report_default": {}
            }
          }
        },
        "jupyter": {
          "outputs_hidden": true
        },
        "trusted": false
      },
      "outputs": [],
      "source": [
        "X = data_fraud.drop(['isFraud'],axis=1)\n",
        "y = data_fraud[['isFraud']]"
      ]
    },
    {
      "cell_type": "markdown",
      "metadata": {
        "_uuid": "ea0d8c97a7ff5751da3a6ee95955ae5a7ecedc0d",
        "extensions": {
          "jupyter_dashboards": {
            "version": 1,
            "views": {
              "grid_default": {
                "hidden": true
              },
              "report_default": {}
            }
          }
        }
      },
      "source": [
        "## Machine Learning Model"
      ]
    },
    {
      "cell_type": "code",
      "execution_count": null,
      "metadata": {
        "_uuid": "2db76cfb9ef3727bf0c1f5217e521c7c37922d07",
        "collapsed": true,
        "extensions": {
          "jupyter_dashboards": {
            "version": 1,
            "views": {
              "grid_default": {
                "hidden": true
              },
              "report_default": {}
            }
          }
        },
        "jupyter": {
          "outputs_hidden": true
        },
        "trusted": false
      },
      "outputs": [],
      "source": [
        "from sklearn.model_selection import train_test_split\n",
        "train_X, test_X, train_y, test_y = train_test_split(X, y, test_size = 0.2, random_state = 121)"
      ]
    },
    {
      "cell_type": "code",
      "execution_count": null,
      "metadata": {
        "_uuid": "649e8b0bcc8692f3cbe42abe3dd4c5de6baa1b22",
        "collapsed": true,
        "extensions": {
          "jupyter_dashboards": {
            "version": 1,
            "views": {
              "grid_default": {
                "hidden": true
              },
              "report_default": {}
            }
          }
        },
        "jupyter": {
          "outputs_hidden": true
        },
        "trusted": false
      },
      "outputs": [],
      "source": [
        "from sklearn.ensemble import RandomForestClassifier\n",
        "clf = RandomForestClassifier(n_estimators=15)"
      ]
    },
    {
      "cell_type": "code",
      "execution_count": null,
      "metadata": {
        "_uuid": "1de7d321d9dcf314dda1dc7fc68a109586000134",
        "collapsed": true,
        "extensions": {
          "jupyter_dashboards": {
            "version": 1,
            "views": {
              "grid_default": {
                "hidden": true
              },
              "report_default": {}
            }
          }
        },
        "jupyter": {
          "outputs_hidden": true
        },
        "trusted": false
      },
      "outputs": [],
      "source": [
        "if True:\n",
        "    probabilities = clf.fit(train_X, train_y.values.ravel()).predict(test_X)"
      ]
    },
    {
      "cell_type": "code",
      "execution_count": null,
      "metadata": {
        "_uuid": "251f3898a2ea6fdf782e87156c8a28eac37a6d5d",
        "collapsed": true,
        "extensions": {
          "jupyter_dashboards": {
            "version": 1,
            "views": {
              "grid_default": {
                "col": 0,
                "height": 4,
                "hidden": false,
                "row": 86,
                "width": 4
              },
              "report_default": {}
            }
          }
        },
        "jupyter": {
          "outputs_hidden": true
        },
        "trusted": false
      },
      "outputs": [],
      "source": [
        "from sklearn.metrics import average_precision_score\n",
        "if True:\n",
        "    print(average_precision_score(test_y,probabilities))"
      ]
    },
    {
      "cell_type": "markdown",
      "metadata": {
        "_uuid": "f76a72cdad5c39d830e2dd51981b5ef5507ab97c"
      },
      "source": [
        "**Average precision score is 0.7687.**"
      ]
    },
    {
      "cell_type": "markdown",
      "metadata": {
        "_uuid": "2ab426b2535738b3cecd143a14126e4d0c0887a6",
        "extensions": {
          "jupyter_dashboards": {
            "version": 1,
            "views": {
              "grid_default": {
                "col": 8,
                "height": 4,
                "hidden": false,
                "row": 104,
                "width": 4
              },
              "report_default": {}
            }
          }
        }
      },
      "source": [
        "## Conclusion"
      ]
    },
    {
      "cell_type": "markdown",
      "metadata": {
        "_uuid": "ae93b9ece11ca92da4105d1fc03a212ccfd078a0",
        "extensions": {
          "jupyter_dashboards": {
            "version": 1,
            "views": {
              "grid_default": {
                "hidden": true
              },
              "report_default": {}
            }
          }
        }
      },
      "source": [
        "*  Existing rule-based system is **not capable** of detection of all the fraud transaction.\n",
        "*  **Machine learning** can be used for the detection of fraud transaction.\n",
        "*  Predictive models produce **good precision score** and are capable of detection of fraud transaction."
      ]
    }
  ],
  "metadata": {
    "extensions": {
      "jupyter_dashboards": {
        "activeView": "grid_default",
        "version": 1,
        "views": {
          "grid_default": {
            "cellMargin": 10,
            "defaultCellHeight": 20,
            "maxColumns": 12,
            "name": "grid",
            "type": "grid"
          },
          "report_default": {
            "name": "report",
            "type": "report"
          }
        }
      }
    },
    "kaggle": {
      "accelerator": "none",
      "dataSources": [
        {
          "datasetId": 1069,
          "sourceId": 1940,
          "sourceType": "datasetVersion"
        }
      ],
      "dockerImageVersionId": 7174,
      "isGpuEnabled": false,
      "isInternetEnabled": false,
      "language": "python",
      "sourceType": "notebook"
    },
    "kernelspec": {
      "display_name": "Python 3",
      "language": "python",
      "name": "python3"
    },
    "language_info": {
      "codemirror_mode": {
        "name": "ipython",
        "version": 3
      },
      "file_extension": ".py",
      "mimetype": "text/x-python",
      "name": "python",
      "nbconvert_exporter": "python",
      "pygments_lexer": "ipython3",
      "version": "3.13.2"
    }
  },
  "nbformat": 4,
  "nbformat_minor": 4
}
